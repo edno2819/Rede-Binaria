{
 "cells": [
  {
   "cell_type": "code",
   "execution_count": 2,
   "metadata": {},
   "outputs": [],
   "source": [
    "import numpy as np\n",
    "import pandas as pd\n",
    "import matplotlib.pyplot as plt\n",
    "import matplotlib\n",
    "pd.options.mode.chained_assignment = None\n",
    "import os\n",
    "import csv\n"
   ]
  },
  {
   "cell_type": "code",
   "execution_count": 3,
   "metadata": {},
   "outputs": [],
   "source": [
    "def MACD(df,period1,period2,periodSignal):\n",
    "    #Formula MACD=EMA de 12 períodos - EMA de 26 períodos\n",
    "    EMA1 = pd.DataFrame.ewm(df,span=period1).mean()\n",
    "    EMA2 = pd.DataFrame.ewm(df,span=period2).mean()\n",
    "    MACD = EMA1-EMA2\n",
    "    \n",
    "    Signal = pd.DataFrame.ewm(MACD,periodSignal).mean()\n",
    "    \n",
    "    Histogram = MACD-Signal\n",
    "    \n",
    "    return Histogram\n",
    "\n",
    "def stochastics_oscillator(df,period):\n",
    "    #Formula-%K = (preço de fechamento – menor mínima)/(maior alta – menor mínima)*100\n",
    "    #%D = Média Móvel Simples de 3 dias da %K\n",
    "    \n",
    "    l, h = pd.DataFrame.rolling(df, period).min(), pd.DataFrame.rolling(df, period).max()\n",
    "    k = 100 * (df - l) / (h - l)\n",
    "    return k\n",
    "\n",
    "\n",
    "def ATR(df,period):\n",
    "    '''\n",
    "    Metodo A: diferença entre as maximas e minimas\n",
    "    '''\n",
    "    df['H-L'] = abs(df['MAXIMA']-df['MINIMA'])\n",
    "    df['H-PC'] = abs(df['MAXIMA']-df['FECHAMENTO'].shift(1))\n",
    "    df['L-PC'] = abs(df['MINIMA']-df['FECHAMENTO'].shift(1))\n",
    "    TR = df[['H-L','H-PC','L-PC']].max(axis=1)\n",
    "    return TR.to_frame()"
   ]
  },
  {
   "cell_type": "code",
   "execution_count": 9,
   "metadata": {},
   "outputs": [
    {
     "data": {
      "text/html": [
       "<div>\n",
       "<style scoped>\n",
       "    .dataframe tbody tr th:only-of-type {\n",
       "        vertical-align: middle;\n",
       "    }\n",
       "\n",
       "    .dataframe tbody tr th {\n",
       "        vertical-align: top;\n",
       "    }\n",
       "\n",
       "    .dataframe thead th {\n",
       "        text-align: right;\n",
       "    }\n",
       "</style>\n",
       "<table border=\"1\" class=\"dataframe\">\n",
       "  <thead>\n",
       "    <tr style=\"text-align: right;\">\n",
       "      <th></th>\n",
       "      <th>BINARIO</th>\n",
       "    </tr>\n",
       "  </thead>\n",
       "  <tbody>\n",
       "    <tr>\n",
       "      <td>0</td>\n",
       "      <td>0</td>\n",
       "    </tr>\n",
       "    <tr>\n",
       "      <td>1</td>\n",
       "      <td>1</td>\n",
       "    </tr>\n",
       "    <tr>\n",
       "      <td>2</td>\n",
       "      <td>3</td>\n",
       "    </tr>\n",
       "    <tr>\n",
       "      <td>3</td>\n",
       "      <td>3</td>\n",
       "    </tr>\n",
       "    <tr>\n",
       "      <td>4</td>\n",
       "      <td>1</td>\n",
       "    </tr>\n",
       "    <tr>\n",
       "      <td>...</td>\n",
       "      <td>...</td>\n",
       "    </tr>\n",
       "    <tr>\n",
       "      <td>5939</td>\n",
       "      <td>3</td>\n",
       "    </tr>\n",
       "    <tr>\n",
       "      <td>5940</td>\n",
       "      <td>3</td>\n",
       "    </tr>\n",
       "    <tr>\n",
       "      <td>5941</td>\n",
       "      <td>3</td>\n",
       "    </tr>\n",
       "    <tr>\n",
       "      <td>5942</td>\n",
       "      <td>3</td>\n",
       "    </tr>\n",
       "    <tr>\n",
       "      <td>5943</td>\n",
       "      <td>1</td>\n",
       "    </tr>\n",
       "  </tbody>\n",
       "</table>\n",
       "<p>5944 rows × 1 columns</p>\n",
       "</div>"
      ],
      "text/plain": [
       "      BINARIO\n",
       "0           0\n",
       "1           1\n",
       "2           3\n",
       "3           3\n",
       "4           1\n",
       "...       ...\n",
       "5939        3\n",
       "5940        3\n",
       "5941        3\n",
       "5942        3\n",
       "5943        1\n",
       "\n",
       "[5944 rows x 1 columns]"
      ]
     },
     "execution_count": 9,
     "metadata": {},
     "output_type": "execute_result"
    }
   ],
   "source": [
    "def binario():# 3 subir 2 doji 1 descer\n",
    "    bi=[0]\n",
    "    for c in range(1,len(pc)):\n",
    "        if pc.iloc[c,4]>pc.iloc[c-1,4]:\n",
    "            bi.append(3)\n",
    "        elif pc.iloc[c,4]<pc.iloc[c-1,4]:\n",
    "            bi.append(1)\n",
    "        elif pc.iloc[c,4]==pc.iloc[c-1,4]:\n",
    "            bi.append(2)\n",
    "    return bi\n",
    "\n",
    "bi=pd.DataFrame(binario())\n",
    "bi.rename(columns={0:'BINARIO'}, inplace=True)\n",
    "bi.head(-1)\n",
    "\n",
    "\n",
    "\n",
    "           "
   ]
  },
  {
   "cell_type": "code",
   "execution_count": 66,
   "metadata": {},
   "outputs": [],
   "source": [
    "dataset=[]\n",
    "arquivo = open(r'C:\\Users\\edno2\\Desktop\\Rede_Binária\\GBPAUD_M5.csv')\n",
    "linhas = csv.reader(arquivo)\n",
    "\n",
    "for linha in linhas:\n",
    "    dataset.append(linha[1:5])\n",
    "\n",
    "for c in range(1,len(dataset)):   \n",
    "    dataset[c]=[float(i) for i in dataset[c]]\n",
    "\n"
   ]
  },
  {
   "cell_type": "code",
   "execution_count": 67,
   "metadata": {},
   "outputs": [
    {
     "output_type": "stream",
     "name": "stdout",
     "text": [
      "['ABERTURA', 'MAXIMA', 'MINIMA', 'FECHAMENTO']\n[1.96403, 1.96403, 1.96403, 1.96403]\n[1.96358, 1.96497, 1.96358, 1.96472]\n[1.96472, 1.9654, 1.96219, 1.96451]\n[1.96578, 1.96702, 1.96387, 1.96616]\n[1.96479, 1.96515, 1.96471, 1.9648]\n[1.96838, 1.97177, 1.96838, 1.97145]\n[1.97145, 1.97333, 1.97097, 1.97097]\n[1.97068, 1.97429, 1.96951, 1.97375]\n[1.97369, 1.97389, 1.97214, 1.97254]\n"
     ]
    }
   ],
   "source": [
    "for c in range(0,10):\n",
    "    print(dataset[c])"
   ]
  },
  {
   "cell_type": "code",
   "execution_count": 68,
   "metadata": {},
   "outputs": [],
   "source": [
    "dataset[0].append(\"BINARIO\")\n",
    "for c in range(2,len(dataset)):\n",
    "    if dataset[c][0]>dataset[c][-1]: dataset[c-1].append(0)\n",
    "    elif dataset[c][0]<dataset[c][-1]: dataset[c-1].append(1)\n",
    "    else: dataset[c-1].append(0.5)"
   ]
  },
  {
   "cell_type": "code",
   "execution_count": 69,
   "metadata": {},
   "outputs": [
    {
     "output_type": "stream",
     "name": "stdout",
     "text": [
      "['ABERTURA', 'MAXIMA', 'MINIMA', 'FECHAMENTO', 'BINARIO']\n[1.96403, 1.96403, 1.96403, 1.96403, 1]\n[1.96358, 1.96497, 1.96358, 1.96472, 0]\n[1.96472, 1.9654, 1.96219, 1.96451, 1]\n[1.96578, 1.96702, 1.96387, 1.96616, 1]\n[1.96479, 1.96515, 1.96471, 1.9648, 1]\n[1.96838, 1.97177, 1.96838, 1.97145, 0]\n[1.97145, 1.97333, 1.97097, 1.97097, 1]\n[1.97068, 1.97429, 1.96951, 1.97375, 0]\n[1.97369, 1.97389, 1.97214, 1.97254, 0]\n"
     ]
    }
   ],
   "source": [
    "for c in range(0,10): \n",
    "    print(dataset[c])"
   ]
  },
  {
   "cell_type": "code",
   "execution_count": 70,
   "metadata": {},
   "outputs": [],
   "source": [
    "out = csv.writer(open('GBPAUD_tick5_BI_03_10.csv',\"w\"), delimiter=',')\n",
    "\n",
    "for c in dataset:\n",
    "    out.writerow(c)"
   ]
  },
  {
   "cell_type": "code",
   "execution_count": null,
   "metadata": {},
   "outputs": [],
   "source": []
  }
 ],
 "metadata": {
  "kernelspec": {
   "name": "python3",
   "display_name": "Python 3.7.9 64-bit",
   "metadata": {
    "interpreter": {
     "hash": "b790771c7be7da65445b4075123aa246c39b686b2a3ea235f7d16c0f8601114c"
    }
   }
  },
  "language_info": {
   "codemirror_mode": {
    "name": "ipython",
    "version": 3
   },
   "file_extension": ".py",
   "mimetype": "text/x-python",
   "name": "python",
   "nbconvert_exporter": "python",
   "pygments_lexer": "ipython3",
   "version": "3.7.9-final"
  }
 },
 "nbformat": 4,
 "nbformat_minor": 2
}